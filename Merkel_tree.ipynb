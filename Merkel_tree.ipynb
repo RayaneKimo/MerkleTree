{
 "cells": [
  {
   "cell_type": "markdown",
   "source": [
    "# Arbre de Merkle"
   ],
   "metadata": {
    "collapsed": false,
    "pycharm": {
     "name": "#%% md\n"
    }
   }
  },
  {
   "cell_type": "code",
   "execution_count": null,
   "outputs": [],
   "source": [
    "pip install typing"
   ],
   "metadata": {
    "collapsed": false,
    "pycharm": {
     "name": "#%%\n",
     "is_executing": true
    }
   }
  },
  {
   "cell_type": "code",
   "execution_count": null,
   "outputs": [],
   "source": [
    "pip install treelib"
   ],
   "metadata": {
    "collapsed": false,
    "pycharm": {
     "name": "#%%\n",
     "is_executing": true
    }
   }
  },
  {
   "cell_type": "code",
   "execution_count": 114,
   "outputs": [],
   "source": [
    "from hashlib import sha512\n",
    "from treelib import  Tree\n",
    "from typing import List"
   ],
   "metadata": {
    "collapsed": false,
    "pycharm": {
     "name": "#%%\n"
    }
   }
  },
  {
   "cell_type": "code",
   "execution_count": 115,
   "outputs": [],
   "source": [
    "def hash(val: str):\n",
    "    return sha512(val.encode('utf-8')).hexdigest()\n",
    "\n",
    "class NoeudArbre:\n",
    "    def __init__(self, gauche, droite, valeur: str,contenu) :\n",
    "        self.gauche: NoeudArbre = gauche      # Fils de gauche\n",
    "        self.droite: NoeudArbre = droite      # Fild de droite\n",
    "        self.valeur = valeur                  # hash du gauche + droite\n",
    "        self.contenu = contenu                # contenu du gauche + droite\n"
   ],
   "metadata": {
    "collapsed": false,
    "pycharm": {
     "name": "#%%\n"
    }
   }
  },
  {
   "cell_type": "code",
   "execution_count": 116,
   "outputs": [],
   "source": [
    "class ArbreDeMerkle:\n",
    "    def __init__(self, valeurs: List[str]) -> None:\n",
    "        self.ArbreConstruct(valeurs)\n",
    "\n",
    "    def ArbreConstruct(self, valeurs: List[str]) -> None:\n",
    "\n",
    "        #initialiser les noeuds (transactions) de la plus basse hierarchie\n",
    "        feuilles: List[NoeudArbre] = [NoeudArbre(None, None, hash(e), e) for e in valeurs]\n",
    "\n",
    "         #rendre le nombre de transactions pair grace au slicing et on fait une copie du dernier élément pour ne pas tomber dans le piège d'avoir la meme référence pour 2 Noeuds\n",
    "        if len(feuilles) % 2 == 1:\n",
    "            feuilles.append(feuilles[-1:][0])    #retourner un copie du dernier NoeudArbre, avec une nouvelle référence\n",
    "        self.root: NoeudArbre = self.BuildNoeudArbres(feuilles)\n",
    "\n",
    "    def BuildNoeudArbres(self, NoeudArbres: List[NoeudArbre]) -> NoeudArbre:\n",
    "\n",
    "        if len(NoeudArbres) % 2 != 0:      # checker si les noeuds sont impairs\n",
    "            NoeudArbres.append(NoeudArbres[:-1][0])\n",
    "\n",
    "        moitié: int = len(NoeudArbres) // 2\n",
    "\n",
    "        if len(NoeudArbres) == 2:\n",
    "            return NoeudArbre(NoeudArbres[0], NoeudArbres[1], hash(NoeudArbres[0].valeur + NoeudArbres[1].valeur), NoeudArbres[0].contenu+ \" + \" +NoeudArbres[1].contenu)\n",
    "\n",
    "        gauche: NoeudArbre = self.BuildNoeudArbres(NoeudArbres[:moitié])\n",
    "\n",
    "        droite: NoeudArbre = self.BuildNoeudArbres(NoeudArbres[moitié:])\n",
    "\n",
    "        valeur: str = hash(gauche.valeur + droite.valeur)\n",
    "\n",
    "        contenu: str = self.BuildNoeudArbres(NoeudArbres[:moitié]).contenu+ \" + \" +self.BuildNoeudArbres(NoeudArbres[moitié:]).contenu\n",
    "\n",
    "        return NoeudArbre(gauche, droite, valeur, contenu)\n",
    "\n",
    "    def ConceptionArbre(self) -> None:\n",
    "         self.tree = Tree()\n",
    "         self.tree.create_node(self.root.contenu, self.root.contenu)   # initialiser l'hierarchie par le root\n",
    "         self.ConceptionChilds(self.root)  # créer les autres noeuds de l'hierarchie\n",
    "         self.tree.show()\n",
    "\n",
    "    def ConceptionChilds(self, NoeudArbre) -> None:\n",
    "        if NoeudArbre != None:   #condition d'arret\n",
    "            if NoeudArbre.gauche != None: # s'il y a un noeud de gauche forcément il a un noeud de droite donc on les ajoute à l'arbre\n",
    "                  self.tree.create_node(NoeudArbre.gauche.contenu, NoeudArbre.gauche.contenu, parent=NoeudArbre.contenu)\n",
    "                  self.tree.create_node(NoeudArbre.droite.contenu, NoeudArbre.droite.contenu, parent=NoeudArbre.contenu)\n",
    "\n",
    "            self.ConceptionChilds(NoeudArbre.gauche)\n",
    "            self.ConceptionChilds(NoeudArbre.droite)\n",
    "\n"
   ],
   "metadata": {
    "collapsed": false,
    "pycharm": {
     "name": "#%%\n"
    }
   }
  },
  {
   "cell_type": "code",
   "execution_count": 117,
   "outputs": [],
   "source": [
    "elem =[\"trsc\"+str(i) for i in range(1,8)] # génération de 7 transactions à titre d'exemple\n",
    "\n",
    "mtree= ArbreDeMerkle(elem)"
   ],
   "metadata": {
    "collapsed": false,
    "pycharm": {
     "name": "#%%\n"
    }
   }
  },
  {
   "cell_type": "code",
   "execution_count": 118,
   "outputs": [
    {
     "ename": "DuplicatedNodeIdError",
     "evalue": "Can't create node with ID 'trsc7'",
     "output_type": "error",
     "traceback": [
      "\u001B[1;31m---------------------------------------------------------------------------\u001B[0m",
      "\u001B[1;31mDuplicatedNodeIdError\u001B[0m                     Traceback (most recent call last)",
      "\u001B[1;32m<ipython-input-118-a25ebc4c94a2>\u001B[0m in \u001B[0;36m<module>\u001B[1;34m\u001B[0m\n\u001B[1;32m----> 1\u001B[1;33m \u001B[0mmtree\u001B[0m\u001B[1;33m.\u001B[0m\u001B[0mConceptionArbre\u001B[0m\u001B[1;33m(\u001B[0m\u001B[1;33m)\u001B[0m\u001B[1;33m\u001B[0m\u001B[1;33m\u001B[0m\u001B[0m\n\u001B[0m",
      "\u001B[1;32m<ipython-input-116-95796668e240>\u001B[0m in \u001B[0;36mConceptionArbre\u001B[1;34m(self)\u001B[0m\n\u001B[0;32m     36\u001B[0m          \u001B[0mself\u001B[0m\u001B[1;33m.\u001B[0m\u001B[0mtree\u001B[0m \u001B[1;33m=\u001B[0m \u001B[0mTree\u001B[0m\u001B[1;33m(\u001B[0m\u001B[1;33m)\u001B[0m\u001B[1;33m\u001B[0m\u001B[1;33m\u001B[0m\u001B[0m\n\u001B[0;32m     37\u001B[0m          \u001B[0mself\u001B[0m\u001B[1;33m.\u001B[0m\u001B[0mtree\u001B[0m\u001B[1;33m.\u001B[0m\u001B[0mcreate_node\u001B[0m\u001B[1;33m(\u001B[0m\u001B[0mself\u001B[0m\u001B[1;33m.\u001B[0m\u001B[0mroot\u001B[0m\u001B[1;33m.\u001B[0m\u001B[0mcontenu\u001B[0m\u001B[1;33m,\u001B[0m \u001B[0mself\u001B[0m\u001B[1;33m.\u001B[0m\u001B[0mroot\u001B[0m\u001B[1;33m.\u001B[0m\u001B[0mcontenu\u001B[0m\u001B[1;33m)\u001B[0m   \u001B[1;31m# initialiser l'hierarchie par le root\u001B[0m\u001B[1;33m\u001B[0m\u001B[1;33m\u001B[0m\u001B[0m\n\u001B[1;32m---> 38\u001B[1;33m          \u001B[0mself\u001B[0m\u001B[1;33m.\u001B[0m\u001B[0mConceptionChilds\u001B[0m\u001B[1;33m(\u001B[0m\u001B[0mself\u001B[0m\u001B[1;33m.\u001B[0m\u001B[0mroot\u001B[0m\u001B[1;33m)\u001B[0m  \u001B[1;31m# créer les autres noeuds de l'hierarchie\u001B[0m\u001B[1;33m\u001B[0m\u001B[1;33m\u001B[0m\u001B[0m\n\u001B[0m\u001B[0;32m     39\u001B[0m          \u001B[0mself\u001B[0m\u001B[1;33m.\u001B[0m\u001B[0mtree\u001B[0m\u001B[1;33m.\u001B[0m\u001B[0mshow\u001B[0m\u001B[1;33m(\u001B[0m\u001B[1;33m)\u001B[0m\u001B[1;33m\u001B[0m\u001B[1;33m\u001B[0m\u001B[0m\n\u001B[0;32m     40\u001B[0m \u001B[1;33m\u001B[0m\u001B[0m\n",
      "\u001B[1;32m<ipython-input-116-95796668e240>\u001B[0m in \u001B[0;36mConceptionChilds\u001B[1;34m(self, NoeudArbre)\u001B[0m\n\u001B[0;32m     46\u001B[0m \u001B[1;33m\u001B[0m\u001B[0m\n\u001B[0;32m     47\u001B[0m             \u001B[0mself\u001B[0m\u001B[1;33m.\u001B[0m\u001B[0mConceptionChilds\u001B[0m\u001B[1;33m(\u001B[0m\u001B[0mNoeudArbre\u001B[0m\u001B[1;33m.\u001B[0m\u001B[0mgauche\u001B[0m\u001B[1;33m)\u001B[0m\u001B[1;33m\u001B[0m\u001B[1;33m\u001B[0m\u001B[0m\n\u001B[1;32m---> 48\u001B[1;33m             \u001B[0mself\u001B[0m\u001B[1;33m.\u001B[0m\u001B[0mConceptionChilds\u001B[0m\u001B[1;33m(\u001B[0m\u001B[0mNoeudArbre\u001B[0m\u001B[1;33m.\u001B[0m\u001B[0mdroite\u001B[0m\u001B[1;33m)\u001B[0m\u001B[1;33m\u001B[0m\u001B[1;33m\u001B[0m\u001B[0m\n\u001B[0m\u001B[0;32m     49\u001B[0m \u001B[1;33m\u001B[0m\u001B[0m\n\u001B[0;32m     50\u001B[0m \u001B[1;33m\u001B[0m\u001B[0m\n",
      "\u001B[1;32m<ipython-input-116-95796668e240>\u001B[0m in \u001B[0;36mConceptionChilds\u001B[1;34m(self, NoeudArbre)\u001B[0m\n\u001B[0;32m     46\u001B[0m \u001B[1;33m\u001B[0m\u001B[0m\n\u001B[0;32m     47\u001B[0m             \u001B[0mself\u001B[0m\u001B[1;33m.\u001B[0m\u001B[0mConceptionChilds\u001B[0m\u001B[1;33m(\u001B[0m\u001B[0mNoeudArbre\u001B[0m\u001B[1;33m.\u001B[0m\u001B[0mgauche\u001B[0m\u001B[1;33m)\u001B[0m\u001B[1;33m\u001B[0m\u001B[1;33m\u001B[0m\u001B[0m\n\u001B[1;32m---> 48\u001B[1;33m             \u001B[0mself\u001B[0m\u001B[1;33m.\u001B[0m\u001B[0mConceptionChilds\u001B[0m\u001B[1;33m(\u001B[0m\u001B[0mNoeudArbre\u001B[0m\u001B[1;33m.\u001B[0m\u001B[0mdroite\u001B[0m\u001B[1;33m)\u001B[0m\u001B[1;33m\u001B[0m\u001B[1;33m\u001B[0m\u001B[0m\n\u001B[0m\u001B[0;32m     49\u001B[0m \u001B[1;33m\u001B[0m\u001B[0m\n\u001B[0;32m     50\u001B[0m \u001B[1;33m\u001B[0m\u001B[0m\n",
      "\u001B[1;32m<ipython-input-116-95796668e240>\u001B[0m in \u001B[0;36mConceptionChilds\u001B[1;34m(self, NoeudArbre)\u001B[0m\n\u001B[0;32m     43\u001B[0m             \u001B[1;32mif\u001B[0m \u001B[0mNoeudArbre\u001B[0m\u001B[1;33m.\u001B[0m\u001B[0mgauche\u001B[0m \u001B[1;33m!=\u001B[0m \u001B[1;32mNone\u001B[0m\u001B[1;33m:\u001B[0m \u001B[1;31m# s'il y a un noeud de gauche forcément il a un noeud de droite donc on les ajoute à l'arbre\u001B[0m\u001B[1;33m\u001B[0m\u001B[1;33m\u001B[0m\u001B[0m\n\u001B[0;32m     44\u001B[0m                   \u001B[0mself\u001B[0m\u001B[1;33m.\u001B[0m\u001B[0mtree\u001B[0m\u001B[1;33m.\u001B[0m\u001B[0mcreate_node\u001B[0m\u001B[1;33m(\u001B[0m\u001B[0mNoeudArbre\u001B[0m\u001B[1;33m.\u001B[0m\u001B[0mgauche\u001B[0m\u001B[1;33m.\u001B[0m\u001B[0mcontenu\u001B[0m\u001B[1;33m,\u001B[0m \u001B[0mNoeudArbre\u001B[0m\u001B[1;33m.\u001B[0m\u001B[0mgauche\u001B[0m\u001B[1;33m.\u001B[0m\u001B[0mcontenu\u001B[0m\u001B[1;33m,\u001B[0m \u001B[0mparent\u001B[0m\u001B[1;33m=\u001B[0m\u001B[0mNoeudArbre\u001B[0m\u001B[1;33m.\u001B[0m\u001B[0mcontenu\u001B[0m\u001B[1;33m)\u001B[0m\u001B[1;33m\u001B[0m\u001B[1;33m\u001B[0m\u001B[0m\n\u001B[1;32m---> 45\u001B[1;33m                   \u001B[0mself\u001B[0m\u001B[1;33m.\u001B[0m\u001B[0mtree\u001B[0m\u001B[1;33m.\u001B[0m\u001B[0mcreate_node\u001B[0m\u001B[1;33m(\u001B[0m\u001B[0mNoeudArbre\u001B[0m\u001B[1;33m.\u001B[0m\u001B[0mdroite\u001B[0m\u001B[1;33m.\u001B[0m\u001B[0mcontenu\u001B[0m\u001B[1;33m,\u001B[0m \u001B[0mNoeudArbre\u001B[0m\u001B[1;33m.\u001B[0m\u001B[0mdroite\u001B[0m\u001B[1;33m.\u001B[0m\u001B[0mcontenu\u001B[0m\u001B[1;33m,\u001B[0m \u001B[0mparent\u001B[0m\u001B[1;33m=\u001B[0m\u001B[0mNoeudArbre\u001B[0m\u001B[1;33m.\u001B[0m\u001B[0mcontenu\u001B[0m\u001B[1;33m)\u001B[0m\u001B[1;33m\u001B[0m\u001B[1;33m\u001B[0m\u001B[0m\n\u001B[0m\u001B[0;32m     46\u001B[0m \u001B[1;33m\u001B[0m\u001B[0m\n\u001B[0;32m     47\u001B[0m             \u001B[0mself\u001B[0m\u001B[1;33m.\u001B[0m\u001B[0mConceptionChilds\u001B[0m\u001B[1;33m(\u001B[0m\u001B[0mNoeudArbre\u001B[0m\u001B[1;33m.\u001B[0m\u001B[0mgauche\u001B[0m\u001B[1;33m)\u001B[0m\u001B[1;33m\u001B[0m\u001B[1;33m\u001B[0m\u001B[0m\n",
      "\u001B[1;32m~\\AppData\\Roaming\\Python\\Python38\\site-packages\\treelib\\tree.py\u001B[0m in \u001B[0;36mcreate_node\u001B[1;34m(self, tag, identifier, parent, data)\u001B[0m\n\u001B[0;32m    370\u001B[0m         \"\"\"\n\u001B[0;32m    371\u001B[0m         \u001B[0mnode\u001B[0m \u001B[1;33m=\u001B[0m \u001B[0mself\u001B[0m\u001B[1;33m.\u001B[0m\u001B[0mnode_class\u001B[0m\u001B[1;33m(\u001B[0m\u001B[0mtag\u001B[0m\u001B[1;33m=\u001B[0m\u001B[0mtag\u001B[0m\u001B[1;33m,\u001B[0m \u001B[0midentifier\u001B[0m\u001B[1;33m=\u001B[0m\u001B[0midentifier\u001B[0m\u001B[1;33m,\u001B[0m \u001B[0mdata\u001B[0m\u001B[1;33m=\u001B[0m\u001B[0mdata\u001B[0m\u001B[1;33m)\u001B[0m\u001B[1;33m\u001B[0m\u001B[1;33m\u001B[0m\u001B[0m\n\u001B[1;32m--> 372\u001B[1;33m         \u001B[0mself\u001B[0m\u001B[1;33m.\u001B[0m\u001B[0madd_node\u001B[0m\u001B[1;33m(\u001B[0m\u001B[0mnode\u001B[0m\u001B[1;33m,\u001B[0m \u001B[0mparent\u001B[0m\u001B[1;33m)\u001B[0m\u001B[1;33m\u001B[0m\u001B[1;33m\u001B[0m\u001B[0m\n\u001B[0m\u001B[0;32m    373\u001B[0m         \u001B[1;32mreturn\u001B[0m \u001B[0mnode\u001B[0m\u001B[1;33m\u001B[0m\u001B[1;33m\u001B[0m\u001B[0m\n\u001B[0;32m    374\u001B[0m \u001B[1;33m\u001B[0m\u001B[0m\n",
      "\u001B[1;32m~\\AppData\\Roaming\\Python\\Python38\\site-packages\\treelib\\tree.py\u001B[0m in \u001B[0;36madd_node\u001B[1;34m(self, node, parent)\u001B[0m\n\u001B[0;32m    293\u001B[0m \u001B[1;33m\u001B[0m\u001B[0m\n\u001B[0;32m    294\u001B[0m         \u001B[1;32mif\u001B[0m \u001B[0mnode\u001B[0m\u001B[1;33m.\u001B[0m\u001B[0midentifier\u001B[0m \u001B[1;32min\u001B[0m \u001B[0mself\u001B[0m\u001B[1;33m.\u001B[0m\u001B[0m_nodes\u001B[0m\u001B[1;33m:\u001B[0m\u001B[1;33m\u001B[0m\u001B[1;33m\u001B[0m\u001B[0m\n\u001B[1;32m--> 295\u001B[1;33m             raise DuplicatedNodeIdError(\"Can't create node \"\n\u001B[0m\u001B[0;32m    296\u001B[0m                                         \"with ID '%s'\" % node.identifier)\n\u001B[0;32m    297\u001B[0m \u001B[1;33m\u001B[0m\u001B[0m\n",
      "\u001B[1;31mDuplicatedNodeIdError\u001B[0m: Can't create node with ID 'trsc7'"
     ]
    }
   ],
   "source": [
    "mtree.ConceptionArbre()"
   ],
   "metadata": {
    "collapsed": false,
    "pycharm": {
     "name": "#%%\n"
    }
   }
  },
  {
   "cell_type": "markdown",
   "source": [
    "# Visualisation de l'hierarchie de l'arbre"
   ],
   "metadata": {
    "collapsed": false,
    "pycharm": {
     "name": "#%% md\n"
    }
   }
  },
  {
   "cell_type": "code",
   "execution_count": 119,
   "outputs": [
    {
     "name": "stdout",
     "output_type": "stream",
     "text": [
      "trsc1 + trsc2 + trsc3 + trsc4 + trsc5 + trsc6 + trsc7 + trsc7\n",
      "├── trsc1 + trsc2 + trsc3 + trsc4\n",
      "│   ├── trsc1 + trsc2\n",
      "│   │   ├── trsc1\n",
      "│   │   └── trsc2\n",
      "│   └── trsc3 + trsc4\n",
      "│       ├── trsc3\n",
      "│       └── trsc4\n",
      "└── trsc5 + trsc6 + trsc7 + trsc7\n",
      "    ├── trsc5 + trsc6\n",
      "    │   ├── trsc5\n",
      "    │   └── trsc6\n",
      "    └── trsc7 + trsc7\n",
      "        └── trsc7\n",
      "\n"
     ]
    }
   ],
   "source": [
    "mtree.tree.show()"
   ],
   "metadata": {
    "collapsed": false,
    "pycharm": {
     "name": "#%%\n"
    }
   }
  },
  {
   "cell_type": "code",
   "execution_count": null,
   "outputs": [],
   "source": [],
   "metadata": {
    "collapsed": false,
    "pycharm": {
     "name": "#%%\n"
    }
   }
  }
 ],
 "metadata": {
  "kernelspec": {
   "display_name": "Python 3",
   "language": "python",
   "name": "python3"
  },
  "language_info": {
   "codemirror_mode": {
    "name": "ipython",
    "version": 2
   },
   "file_extension": ".py",
   "mimetype": "text/x-python",
   "name": "python",
   "nbconvert_exporter": "python",
   "pygments_lexer": "ipython2",
   "version": "2.7.6"
  }
 },
 "nbformat": 4,
 "nbformat_minor": 0
}